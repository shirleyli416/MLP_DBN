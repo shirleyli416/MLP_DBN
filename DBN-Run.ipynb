{
 "cells": [
  {
   "cell_type": "code",
   "execution_count": 1,
   "metadata": {},
   "outputs": [
    {
     "name": "stderr",
     "output_type": "stream",
     "text": [
      "Using TensorFlow backend.\n"
     ]
    },
    {
     "name": "stdout",
     "output_type": "stream",
     "text": [
      "Loading data..\n",
      "Loading Features.\n",
      "Actual Dimenions of feature space is:\n",
      "(1000, 4064)\n",
      "Train on 800 samples, validate on 200 samples\n",
      "Epoch 1/5\n",
      "800/800 [==============================] - 30s 37ms/step - loss: 185.9511 - val_loss: 201.0365\n",
      "Epoch 2/5\n",
      "800/800 [==============================] - 31s 38ms/step - loss: 179.3004 - val_loss: 198.9860\n",
      "Epoch 3/5\n",
      "800/800 [==============================] - 35s 44ms/step - loss: 177.2813 - val_loss: 197.7031\n",
      "Epoch 4/5\n",
      "800/800 [==============================] - 36s 45ms/step - loss: 176.0208 - val_loss: 195.8989\n",
      "Epoch 5/5\n",
      "800/800 [==============================] - 32s 40ms/step - loss: 175.0039 - val_loss: 195.3528\n",
      "Now the dimensions of the encoded input feature space is -- \n",
      "(1000, 1000)\n",
      "[START] Pre-training step:\n",
      ">> Epoch 1 finished \tRBM Reconstruction error 3.683993\n",
      ">> Epoch 2 finished \tRBM Reconstruction error 3.073232\n",
      ">> Epoch 3 finished \tRBM Reconstruction error 2.850337\n",
      ">> Epoch 4 finished \tRBM Reconstruction error 2.698203\n",
      ">> Epoch 5 finished \tRBM Reconstruction error 2.573685\n",
      ">> Epoch 6 finished \tRBM Reconstruction error 2.395533\n",
      ">> Epoch 7 finished \tRBM Reconstruction error 2.259067\n",
      ">> Epoch 8 finished \tRBM Reconstruction error 2.194990\n",
      ">> Epoch 9 finished \tRBM Reconstruction error 2.039137\n",
      ">> Epoch 10 finished \tRBM Reconstruction error 1.951831\n",
      ">> Epoch 11 finished \tRBM Reconstruction error 1.912456\n",
      ">> Epoch 12 finished \tRBM Reconstruction error 1.802486\n",
      ">> Epoch 13 finished \tRBM Reconstruction error 1.925387\n",
      ">> Epoch 14 finished \tRBM Reconstruction error 1.706247\n",
      ">> Epoch 15 finished \tRBM Reconstruction error 1.804653\n",
      ">> Epoch 16 finished \tRBM Reconstruction error 1.662241\n",
      ">> Epoch 17 finished \tRBM Reconstruction error 1.590958\n",
      ">> Epoch 18 finished \tRBM Reconstruction error 1.612763\n",
      ">> Epoch 19 finished \tRBM Reconstruction error 1.525592\n",
      ">> Epoch 20 finished \tRBM Reconstruction error 1.520757\n",
      ">> Epoch 1 finished \tRBM Reconstruction error 1.857433\n",
      ">> Epoch 2 finished \tRBM Reconstruction error 1.411133\n",
      ">> Epoch 3 finished \tRBM Reconstruction error 1.163525\n",
      ">> Epoch 4 finished \tRBM Reconstruction error 1.114566\n",
      ">> Epoch 5 finished \tRBM Reconstruction error 1.000093\n",
      ">> Epoch 6 finished \tRBM Reconstruction error 0.846839\n",
      ">> Epoch 7 finished \tRBM Reconstruction error 0.730048\n",
      ">> Epoch 8 finished \tRBM Reconstruction error 0.698025\n",
      ">> Epoch 9 finished \tRBM Reconstruction error 0.678808\n",
      ">> Epoch 10 finished \tRBM Reconstruction error 0.591530\n",
      ">> Epoch 11 finished \tRBM Reconstruction error 0.566286\n",
      ">> Epoch 12 finished \tRBM Reconstruction error 0.499979\n",
      ">> Epoch 13 finished \tRBM Reconstruction error 0.477831\n",
      ">> Epoch 14 finished \tRBM Reconstruction error 0.465593\n",
      ">> Epoch 15 finished \tRBM Reconstruction error 0.474336\n",
      ">> Epoch 16 finished \tRBM Reconstruction error 0.481727\n",
      ">> Epoch 17 finished \tRBM Reconstruction error 0.417432\n",
      ">> Epoch 18 finished \tRBM Reconstruction error 0.419339\n",
      ">> Epoch 19 finished \tRBM Reconstruction error 0.412389\n",
      ">> Epoch 20 finished \tRBM Reconstruction error 0.378855\n",
      ">> Epoch 1 finished \tRBM Reconstruction error 1.352673\n",
      ">> Epoch 2 finished \tRBM Reconstruction error 0.900186\n",
      ">> Epoch 3 finished \tRBM Reconstruction error 0.671506\n",
      ">> Epoch 4 finished \tRBM Reconstruction error 0.592898\n",
      ">> Epoch 5 finished \tRBM Reconstruction error 0.461214\n",
      ">> Epoch 6 finished \tRBM Reconstruction error 0.434849\n",
      ">> Epoch 7 finished \tRBM Reconstruction error 0.379289\n",
      ">> Epoch 8 finished \tRBM Reconstruction error 0.316633\n",
      ">> Epoch 9 finished \tRBM Reconstruction error 0.355923\n",
      ">> Epoch 10 finished \tRBM Reconstruction error 0.317832\n",
      ">> Epoch 11 finished \tRBM Reconstruction error 0.341044\n",
      ">> Epoch 12 finished \tRBM Reconstruction error 0.314517\n",
      ">> Epoch 13 finished \tRBM Reconstruction error 0.317691\n",
      ">> Epoch 14 finished \tRBM Reconstruction error 0.259488\n",
      ">> Epoch 15 finished \tRBM Reconstruction error 0.249175\n",
      ">> Epoch 16 finished \tRBM Reconstruction error 0.273360\n",
      ">> Epoch 17 finished \tRBM Reconstruction error 0.240641\n",
      ">> Epoch 18 finished \tRBM Reconstruction error 0.267898\n",
      ">> Epoch 19 finished \tRBM Reconstruction error 0.283657\n",
      ">> Epoch 20 finished \tRBM Reconstruction error 0.287214\n",
      ">> Epoch 1 finished \tRBM Reconstruction error 1.024479\n",
      ">> Epoch 2 finished \tRBM Reconstruction error 0.669256\n",
      ">> Epoch 3 finished \tRBM Reconstruction error 0.456756\n",
      ">> Epoch 4 finished \tRBM Reconstruction error 0.338750\n",
      ">> Epoch 5 finished \tRBM Reconstruction error 0.388477\n",
      ">> Epoch 6 finished \tRBM Reconstruction error 0.258570\n",
      ">> Epoch 7 finished \tRBM Reconstruction error 0.218854\n",
      ">> Epoch 8 finished \tRBM Reconstruction error 0.203876\n",
      ">> Epoch 9 finished \tRBM Reconstruction error 0.157901\n",
      ">> Epoch 10 finished \tRBM Reconstruction error 0.177023\n",
      ">> Epoch 11 finished \tRBM Reconstruction error 0.225641\n",
      ">> Epoch 12 finished \tRBM Reconstruction error 0.236723\n",
      ">> Epoch 13 finished \tRBM Reconstruction error 0.340313\n",
      ">> Epoch 14 finished \tRBM Reconstruction error 0.172497\n",
      ">> Epoch 15 finished \tRBM Reconstruction error 0.308726\n",
      ">> Epoch 16 finished \tRBM Reconstruction error 0.120553\n",
      ">> Epoch 17 finished \tRBM Reconstruction error 0.180806\n",
      ">> Epoch 18 finished \tRBM Reconstruction error 0.192060\n",
      ">> Epoch 19 finished \tRBM Reconstruction error 0.132246\n",
      ">> Epoch 20 finished \tRBM Reconstruction error 0.190965\n",
      "[END] Pre-training step\n"
     ]
    },
    {
     "name": "stderr",
     "output_type": "stream",
     "text": [
      "C:\\Users\\72459\\AppData\\Roaming\\Python\\Python37\\site-packages\\sklearn\\svm\\base.py:193: FutureWarning: The default value of gamma will change from 'auto' to 'scale' in version 0.22 to account better for unscaled features. Set gamma explicitly to 'auto' or 'scale' to avoid this warning.\n",
      "  \"avoid this warning.\", FutureWarning)\n"
     ]
    },
    {
     "name": "stdout",
     "output_type": "stream",
     "text": [
      "-----------------------------------------------------------------------------------------------------\n",
      "Classifying APKs from testAPKs/testAPK-1/ folder.\n",
      "-----------------------------------------------------------------------------------------------------\n",
      "Given input is malware, predicting \n",
      "Analyzing APK -- mal.apk\n",
      "-------------------------------------------------------------\n",
      "features of the test apk after is \n",
      "(1000, 1000)\n"
     ]
    },
    {
     "name": "stderr",
     "output_type": "stream",
     "text": [
      "E:\\conda\\envs\\mlp_group\\lib\\site-packages\\keras\\engine\\saving.py:341: UserWarning: No training configuration found in save file: the model was *not* compiled. Compile it manually.\n",
      "  warnings.warn('No training configuration found in save file: '\n"
     ]
    },
    {
     "name": "stdout",
     "output_type": "stream",
     "text": [
      "Shape of the test apk features with readuced dimension = \n",
      "(1, 1000)\n",
      "The hybrid model prediction = [0]\n",
      "Malign\n",
      "-------------------------------------------------------------\n",
      "Given input is benign, predicting\n",
      "Analyzing APK -- ben.apk\n",
      "-------------------------------------------------------------\n",
      "features of the test apk after is \n",
      "(1000, 1000)\n",
      "Shape of the test apk features with readuced dimension = \n",
      "(1, 1000)\n",
      "The hybrid model prediction = [1]\n",
      "Bengin\n"
     ]
    },
    {
     "name": "stderr",
     "output_type": "stream",
     "text": [
      "E:\\conda\\envs\\mlp_group\\lib\\site-packages\\keras\\engine\\saving.py:341: UserWarning: No training configuration found in save file: the model was *not* compiled. Compile it manually.\n",
      "  warnings.warn('No training configuration found in save file: '\n"
     ]
    }
   ],
   "source": [
    "%run train_and_test.py"
   ]
  },
  {
   "cell_type": "code",
   "execution_count": 1,
   "metadata": {},
   "outputs": [
    {
     "name": "stderr",
     "output_type": "stream",
     "text": [
      "Using TensorFlow backend.\n"
     ]
    },
    {
     "name": "stdout",
     "output_type": "stream",
     "text": [
      "Actual Dimenions of feature space is:\n",
      "(1000, 4064)\n",
      "loading the encoder model...\n"
     ]
    },
    {
     "name": "stderr",
     "output_type": "stream",
     "text": [
      "E:\\conda\\envs\\mlp_group\\lib\\site-packages\\keras\\engine\\saving.py:341: UserWarning: No training configuration found in save file: the model was *not* compiled. Compile it manually.\n",
      "  warnings.warn('No training configuration found in save file: '\n"
     ]
    },
    {
     "name": "stdout",
     "output_type": "stream",
     "text": [
      "Now the dimensions of the encoded input feature space is -- \n",
      "(1000, 1000)\n",
      "# Classification_report is as follow:\n",
      "The accuracy_score is:\n",
      "0.835\n",
      "--------------------------------------------------------------------\n",
      "              precision    recall  f1-score   support\n",
      "\n",
      "           0       0.75      0.98      0.85        96\n",
      "           1       0.97      0.70      0.82       104\n",
      "\n",
      "    accuracy                           0.83       200\n",
      "   macro avg       0.86      0.84      0.83       200\n",
      "weighted avg       0.87      0.83      0.83       200\n",
      "\n",
      "classification_report end\n"
     ]
    }
   ],
   "source": [
    "%run test.py"
   ]
  },
  {
   "cell_type": "code",
   "execution_count": null,
   "metadata": {},
   "outputs": [
    {
     "name": "stderr",
     "output_type": "stream",
     "text": [
      "Using TensorFlow backend.\n"
     ]
    },
    {
     "name": "stdout",
     "output_type": "stream",
     "text": [
      "Actual Dimenions of feature space is:\n",
      "(17592, 500)\n",
      "[START] Pre-training step:\n",
      ">> Epoch 1 finished \tRBM Reconstruction error 60.521307\n",
      ">> Epoch 2 finished \tRBM Reconstruction error 63.412960\n",
      ">> Epoch 3 finished \tRBM Reconstruction error 61.508247\n",
      ">> Epoch 4 finished \tRBM Reconstruction error 61.334454\n",
      ">> Epoch 5 finished \tRBM Reconstruction error 60.592422\n",
      ">> Epoch 6 finished \tRBM Reconstruction error 60.515285\n",
      ">> Epoch 7 finished \tRBM Reconstruction error 60.873300\n",
      ">> Epoch 8 finished \tRBM Reconstruction error 60.842560\n",
      ">> Epoch 9 finished \tRBM Reconstruction error 80.810843\n",
      ">> Epoch 10 finished \tRBM Reconstruction error 58.965090\n",
      ">> Epoch 11 finished \tRBM Reconstruction error 68.053780\n",
      ">> Epoch 12 finished \tRBM Reconstruction error 74.046570\n",
      ">> Epoch 13 finished \tRBM Reconstruction error 66.403810\n",
      ">> Epoch 14 finished \tRBM Reconstruction error 79.108889\n",
      ">> Epoch 15 finished \tRBM Reconstruction error 73.580424\n",
      ">> Epoch 16 finished \tRBM Reconstruction error 76.983326\n",
      ">> Epoch 17 finished \tRBM Reconstruction error 84.676986\n",
      ">> Epoch 18 finished \tRBM Reconstruction error 74.413559\n",
      ">> Epoch 19 finished \tRBM Reconstruction error 74.418887\n",
      ">> Epoch 20 finished \tRBM Reconstruction error 71.979103\n",
      ">> Epoch 1 finished \tRBM Reconstruction error 0.593575\n",
      ">> Epoch 2 finished \tRBM Reconstruction error 0.536256\n",
      ">> Epoch 3 finished \tRBM Reconstruction error 0.441910\n",
      ">> Epoch 4 finished \tRBM Reconstruction error 0.367892\n",
      ">> Epoch 5 finished \tRBM Reconstruction error 0.314053\n"
     ]
    }
   ],
   "source": [
    "%run train_and_test_static_500.py"
   ]
  },
  {
   "cell_type": "code",
   "execution_count": null,
   "metadata": {},
   "outputs": [],
   "source": []
  }
 ],
 "metadata": {
  "kernelspec": {
   "display_name": "Python 3",
   "language": "python",
   "name": "python3"
  },
  "language_info": {
   "codemirror_mode": {
    "name": "ipython",
    "version": 3
   },
   "file_extension": ".py",
   "mimetype": "text/x-python",
   "name": "python",
   "nbconvert_exporter": "python",
   "pygments_lexer": "ipython3",
   "version": "3.7.6"
  }
 },
 "nbformat": 4,
 "nbformat_minor": 4
}
